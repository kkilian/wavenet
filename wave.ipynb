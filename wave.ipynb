{
  "cells": [
    {
      "cell_type": "code",
      "execution_count": 4,
      "metadata": {
        "id": "ChBbac4y8PPq"
      },
      "outputs": [],
      "source": [
        "import torch\n",
        "import numpy as np\n",
        "from torch import nn \n",
        "import random\n",
        "from torch.nn import functional as F\n",
        "import matplotlib.pyplot as plt\n",
        "%matplotlib inline"
      ]
    },
    {
      "cell_type": "code",
      "execution_count": 5,
      "metadata": {
        "id": "klmu3ZG08PPr",
        "colab": {
          "base_uri": "https://localhost:8080/"
        },
        "outputId": "79e1c13f-33f3-4261-97c7-e37946581ed8"
      },
      "outputs": [
        {
          "output_type": "execute_result",
          "data": {
            "text/plain": [
              "['ada', 'adalbert', 'adam', 'adela', 'adelajda']"
            ]
          },
          "metadata": {},
          "execution_count": 5
        }
      ],
      "source": [
        "# read in all the words\n",
        "imiona = open(\"imionapl.txt\", encoding = \"UTF-8\").read().splitlines()\n",
        "imiona = [i.lower() for i in imiona]\n",
        "imiona[:5]"
      ]
    },
    {
      "cell_type": "code",
      "execution_count": 6,
      "metadata": {
        "id": "BCQomLE_8PPs",
        "colab": {
          "base_uri": "https://localhost:8080/"
        },
        "outputId": "5dcf4faa-3006-42b9-f01f-f16919c04a5a"
      },
      "outputs": [
        {
          "output_type": "stream",
          "name": "stdout",
          "text": [
            "{1: 'a', 2: 'b', 3: 'c', 4: 'd', 5: 'e', 6: 'f', 7: 'g', 8: 'h', 9: 'i', 10: 'j', 11: 'k', 12: 'l', 13: 'm', 14: 'n', 15: 'o', 16: 'p', 17: 'r', 18: 's', 19: 't', 20: 'u', 21: 'v', 22: 'w', 23: 'y', 24: 'z', 25: 'ó', 26: 'ę', 27: 'ł', 28: 'ń', 29: 'ś', 30: 'ż', 0: '.'}\n",
            "31\n"
          ]
        }
      ],
      "source": [
        "chars = sorted(list(set(''.join(imiona))))\n",
        "stoi = {s:i+1 for i,s in enumerate(chars)}\n",
        "stoi['.'] = 0\n",
        "itos = {i:s for s,i in stoi.items()}\n",
        "vocab_size = len(itos)\n",
        "print(itos)\n",
        "print(vocab_size)"
      ]
    },
    {
      "cell_type": "code",
      "execution_count": 28,
      "metadata": {
        "id": "V_zt2QHr8PPs",
        "colab": {
          "base_uri": "https://localhost:8080/"
        },
        "outputId": "2845af8f-ca90-4204-9eba-c32316e80882"
      },
      "outputs": [
        {
          "output_type": "stream",
          "name": "stdout",
          "text": [
            "torch.Size([3934, 8]) torch.Size([3934])\n",
            "torch.Size([482, 8]) torch.Size([482])\n",
            "torch.Size([493, 8]) torch.Size([493])\n"
          ]
        }
      ],
      "source": [
        "# build the dataset\n",
        "block_size = 8\n",
        "\n",
        "def build_dataset(imiona):  \n",
        "  X, Y = [], []\n",
        "  \n",
        "  for w in imiona:\n",
        "    context = [0] * block_size\n",
        "    for ch in w + '.':\n",
        "      ix = stoi[ch]\n",
        "      X.append(context)\n",
        "      Y.append(ix)\n",
        "      context = context[1:] + [ix] # crop and append\n",
        "\n",
        "  X = torch.tensor(X)\n",
        "  Y = torch.tensor(Y)\n",
        "  print(X.shape, Y.shape)\n",
        "  return X, Y\n",
        "\n",
        "import random\n",
        "random.seed(42)\n",
        "random.shuffle(imiona)\n",
        "n1 = int(0.8*len(imiona))\n",
        "n2 = int(0.9*len(imiona))\n",
        "\n",
        "Xtr,  Ytr  = build_dataset(imiona[:n1])     # 80%\n",
        "Xdev, Ydev = build_dataset(imiona[n1:n2])   # 10%\n",
        "Xte,  Yte  = build_dataset(imiona[n2:])     # 10%"
      ]
    },
    {
      "cell_type": "code",
      "execution_count": 29,
      "metadata": {
        "id": "40mJwHXt-FgI"
      },
      "outputs": [],
      "source": [
        "class Linear:\n",
        "    def __init__(self, ins, outs, bias = True):\n",
        "        self.weight = torch.rand((ins,outs), generator = g)\n",
        "        self.bias = torch.zeros((outs)) if bias else None\n",
        "    def __call__(self, x):\n",
        "        self.out = x @ self.weight\n",
        "        if self.bias is not None:\n",
        "            self.out += self.bias\n",
        "        return self.out\n",
        "    def parameters(self):\n",
        "        return [self.weight] + ([] if self.bias is None else [self.bias])\n",
        "class Tanh:\n",
        "    def __call__(self, x):\n",
        "        self.out = torch.tanh(x)\n",
        "        return self.out\n",
        "    def parameters(self):\n",
        "        return []    \n",
        "class BatchNorm1d:\n",
        "    def __init__(self, dim, eps = 1e-5, momentum = 0.1):\n",
        "        self.momentum = momentum \n",
        "        self.eps = eps\n",
        "        self.training = True\n",
        "        #\n",
        "        self.gamma = torch.ones((dim))\n",
        "        self.beta = torch.zeros((dim))\n",
        "        #\n",
        "        self.rmean = torch.zeros((dim))\n",
        "        self.rvar = torch.ones((dim))\n",
        "        \n",
        "    def __call__(self, x):\n",
        "            \n",
        "        if self.training:\n",
        "            xmean = x.mean(0, keepdim = True)\n",
        "            xvar = x.var(0, keepdim = True)\n",
        "        else:\n",
        "            xmean = self.rmean\n",
        "            xvar = self.rvar\n",
        "        xhat = (x - xmean) / torch.sqrt(xvar + self.eps)\n",
        "        self.out = self.gamma * xhat + self.beta\n",
        "        if self.training:\n",
        "            with torch.no_grad():\n",
        "                self.rmean = (1 - self.momentum) * self.rmean + self.momentum * xmean\n",
        "                self.rvar = (1 - self.momentum) * self.rvar + self.momentum * xvar\n",
        "\n",
        "        return self.out\n",
        "    def parameters(self):\n",
        "        return [self.gamma, self.beta]\n",
        "#embedding layer - A simple lookup table that stores embeddings of a fixed dictionary and size.\n",
        "#https://pytorch.org/docs/stable/generated/torch.nn.Embedding.html\n",
        "class Embedding:\n",
        "  def __init__(self, num_embeddings, dim_embeddings):\n",
        "    self.weight = torch.rand((num_embeddings, dim_embeddings))\n",
        "  def __call__(self, ix):\n",
        "    self.out = self.weight[ix]\n",
        "    return self.out\n",
        "  def parameters(self):\n",
        "    return [self.weight]\n",
        "#flatten layer\n",
        "class Flatten:\n",
        "  def __call__(self, x):\n",
        "    self.out = x.view(x.shape[0], -1)\n",
        "    return self.out\n",
        "  def parameters(self):\n",
        "    return []\n",
        "# sequential container\n",
        "#https://pytorch.org/docs/stable/generated/torch.nn.Sequential.html\n",
        "class Sequential:\n",
        "  def __init__(self, layers):\n",
        "    self.layers = layers\n",
        "  def __call__(self, x):\n",
        "    for layer in self.layers:\n",
        "      x = layer(x)\n",
        "    self.out = x\n",
        "    return self.out\n",
        "  def parameters(self):\n",
        "    return [p for layer in self.layers for p in layer.parameters()]"
      ]
    },
    {
      "cell_type": "code",
      "execution_count": 30,
      "metadata": {
        "id": "FYQejeh0-FgL"
      },
      "outputs": [],
      "source": [
        "g = torch.Generator().manual_seed(43)\n",
        "dims = 10\n",
        "n_hidden = 200\n",
        "\n",
        "model = Sequential([\n",
        "Embedding(vocab_size, dims),\n",
        "Flatten(),\n",
        "   Linear(     dims*block_size,n_hidden, bias = False), BatchNorm1d(n_hidden), Tanh(),\n",
        "   Linear(           n_hidden, vocab_size)\n",
        " ])\n",
        "with torch.no_grad():\n",
        "    model.layers[-1].weight *= 0.1\n",
        "\n",
        "parameters = model.parameters()\n",
        "for p in parameters:\n",
        "    p.requires_grad = True\n"
      ]
    },
    {
      "cell_type": "code",
      "execution_count": 31,
      "metadata": {
        "colab": {
          "base_uri": "https://localhost:8080/",
          "height": 300
        },
        "id": "nMfzZYXl-FgN",
        "outputId": "c8e692d5-a1c7-44c1-fc7a-bba9019f9a8f"
      },
      "outputs": [
        {
          "output_type": "stream",
          "name": "stdout",
          "text": [
            "      0/  20000: 3.5126\n",
            "  10000/  20000: 1.1643\n"
          ]
        },
        {
          "output_type": "display_data",
          "data": {
            "text/plain": [
              "<Figure size 432x288 with 1 Axes>"
            ],
            "image/png": "[encoded data removed]"
          },
          "metadata": {
            "needs_background": "light"
          }
        }
      ],
      "source": [
        "steps = 20000\n",
        "batch_size = 32\n",
        "losses, accuracies = [], []\n",
        "\n",
        "for i in range(steps):\n",
        "    ix = torch.randint(0, Xtr.shape[0], (batch_size,), generator = g)\n",
        "    Xb, Yb = Xtr[ix], Ytr[ix]\n",
        "   \n",
        "    #forward\n",
        "    logits = model(Xb)\n",
        "    loss = F.cross_entropy(logits, Yb)\n",
        "    #backward\n",
        "    for layer in model.layers:\n",
        "        layer.out.retain_grad()\n",
        "    for p in parameters:\n",
        "        p.grad = None\n",
        "    loss.backward()\n",
        "    # update\n",
        "    lr = 0.1 if i < 150000 else 0.01\n",
        "    for p in parameters:\n",
        "        p.data += -lr * p.grad\n",
        "    if i % 10000 == 0: \n",
        "        print(f'{i:7d}/{steps:7d}: {loss.item():.4f}')\n",
        "    losses.append(loss.item())\n",
        "plt.plot(np.arange(steps), losses);    "
      ]
    },
    {
      "cell_type": "code",
      "source": [
        "losses = torch.tensor(losses)\n",
        "losses = losses.view(-1,1000).mean(1)\n",
        "\n",
        "plt.plot(losses)"
      ],
      "metadata": {
        "colab": {
          "base_uri": "https://localhost:8080/",
          "height": 282
        },
        "id": "KZ506GKHGKh4",
        "outputId": "cb1b35b5-4f27-4a48-bc3c-49e9c21c22b2"
      },
      "execution_count": 32,
      "outputs": [
        {
          "output_type": "execute_result",
          "data": {
            "text/plain": [
              "[<matplotlib.lines.Line2D at 0x7f7178140730>]"
            ]
          },
          "metadata": {},
          "execution_count": 32
        },
        {
          "output_type": "display_data",
          "data": {
            "text/plain": [
              "<Figure size 432x288 with 1 Axes>"
            ],
            "image/png": "[encoded data removed]"
          },
          "metadata": {
            "needs_background": "light"
          }
        }
      ]
    },
    {
      "cell_type": "code",
      "execution_count": 33,
      "metadata": {
        "id": "wG7624Qp-FgP"
      },
      "outputs": [],
      "source": [
        "for layer in model.layers:\n",
        "    layer.training = False"
      ]
    },
    {
      "cell_type": "code",
      "execution_count": 34,
      "metadata": {
        "colab": {
          "base_uri": "https://localhost:8080/"
        },
        "id": "zp2bxcKO-FgQ",
        "outputId": "61f912f3-2fdb-4dcb-d84c-04705827dbb4"
      },
      "outputs": [
        {
          "output_type": "stream",
          "name": "stdout",
          "text": [
            "tensor(2.4742)\n"
          ]
        }
      ],
      "source": [
        "with torch.no_grad():\n",
        "    x = Xte\n",
        "    logits = model(x)\n",
        "    loss = F.cross_entropy(logits, Yte)\n",
        "    print(loss)"
      ]
    },
    {
      "cell_type": "code",
      "execution_count": 35,
      "metadata": {
        "colab": {
          "base_uri": "https://localhost:8080/"
        },
        "id": "FWOSgYRu-Fgp",
        "outputId": "00299285-7b17-41f5-a316-de360b39ee16"
      },
      "outputs": [
        {
          "output_type": "stream",
          "name": "stdout",
          "text": [
            "marina.\n",
            "august.\n",
            "walenty.\n",
            "klara.\n",
            "kamil.\n",
            ".\n",
            "wit.\n",
            "arleta.\n",
            "irmina.\n",
            "radlimir.\n",
            "rukunis.\n",
            "uskaw.\n",
            "natalia.\n",
            "zilata.\n",
            "matan.\n",
            "ukonna.\n",
            "rustaw.\n",
            "marina.\n",
            "krystyn.\n",
            "rafałg.\n"
          ]
        }
      ],
      "source": [
        "#sampling from model\n",
        "for i in range(20):\n",
        "    out = []\n",
        "    context = [0] * block_size \n",
        "    while True:\n",
        "        x = torch.tensor([context])\n",
        "        x = model(x)\n",
        "        logits = x\n",
        "        probs = torch.softmax(logits,1)\n",
        "        ix = torch.multinomial(probs, num_samples = 1).item()\n",
        "        context = context[1:] + [ix]\n",
        "        out.append(ix)\n",
        "        if ix == 0:\n",
        "            break\n",
        "    print(''.join(itos[i] for i in out))\n",
        "        \n",
        "        \n",
        "        \n",
        "        "
      ]
    },
    {
      "cell_type": "markdown",
      "source": [
        "### performance log\n",
        "* block_size = 3 -> loss: 2.3360\n",
        "* block_size = 8 -> loss: 2.4742"
      ],
      "metadata": {
        "id": "KlUYrAJaE9Yb"
      }
    },
    {
      "cell_type": "code",
      "source": [],
      "metadata": {
        "id": "MqBCacklE82S"
      },
      "execution_count": 35,
      "outputs": []
    },
    {
      "cell_type": "code",
      "execution_count": null,
      "metadata": {
        "id": "UPPnkCXo-Fgr"
      },
      "outputs": [],
      "source": []
    }
  ],
  "metadata": {
    "colab": {
      "provenance": []
    },
    "kernelspec": {
      "display_name": "Python 3",
      "language": "python",
      "name": "python3"
    },
    "language_info": {
      "codemirror_mode": {
        "name": "ipython",
        "version": 3
      },
      "file_extension": ".py",
      "mimetype": "text/x-python",
      "name": "python",
      "nbconvert_exporter": "python",
      "pygments_lexer": "ipython3",
      "version": "3.8.5"
    }
  },
  "nbformat": 4,
  "nbformat_minor": 0
}