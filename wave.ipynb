{
  "cells": [
    {
      "cell_type": "code",
      "execution_count": 46,
      "metadata": {
        "id": "ChBbac4y8PPq"
      },
      "outputs": [],
      "source": [
        "import torch\n",
        "import numpy as np\n",
        "from torch import nn \n",
        "import random\n",
        "from torch.nn import functional as F\n",
        "import matplotlib.pyplot as plt\n",
        "%matplotlib inline"
      ]
    },
    {
      "cell_type": "code",
      "execution_count": 47,
      "metadata": {
        "id": "klmu3ZG08PPr",
        "colab": {
          "base_uri": "https://localhost:8080/"
        },
        "outputId": "c923fad2-74f2-4f41-de03-eaa34ee67ce0"
      },
      "outputs": [
        {
          "output_type": "execute_result",
          "data": {
            "text/plain": [
              "['ada', 'adalbert', 'adam', 'adela', 'adelajda']"
            ]
          },
          "metadata": {},
          "execution_count": 47
        }
      ],
      "source": [
        "# read in all the words\n",
        "imiona = open(\"imionapl.txt\", encoding = \"UTF-8\").read().splitlines()\n",
        "imiona = [i.lower() for i in imiona]\n",
        "imiona[:5]"
      ]
    },
    {
      "cell_type": "code",
      "execution_count": 48,
      "metadata": {
        "id": "BCQomLE_8PPs",
        "colab": {
          "base_uri": "https://localhost:8080/"
        },
        "outputId": "e8a70d8d-2ded-4c0a-e5f1-ed97b070fd18"
      },
      "outputs": [
        {
          "output_type": "stream",
          "name": "stdout",
          "text": [
            "{1: 'a', 2: 'b', 3: 'c', 4: 'd', 5: 'e', 6: 'f', 7: 'g', 8: 'h', 9: 'i', 10: 'j', 11: 'k', 12: 'l', 13: 'm', 14: 'n', 15: 'o', 16: 'p', 17: 'r', 18: 's', 19: 't', 20: 'u', 21: 'v', 22: 'w', 23: 'y', 24: 'z', 25: 'ó', 26: 'ę', 27: 'ł', 28: 'ń', 29: 'ś', 30: 'ż', 0: '.'}\n",
            "31\n"
          ]
        }
      ],
      "source": [
        "chars = sorted(list(set(''.join(imiona))))\n",
        "stoi = {s:i+1 for i,s in enumerate(chars)}\n",
        "stoi['.'] = 0\n",
        "itos = {i:s for s,i in stoi.items()}\n",
        "vocab_size = len(itos)\n",
        "print(itos)\n",
        "print(vocab_size)"
      ]
    },
    {
      "cell_type": "code",
      "execution_count": 49,
      "metadata": {
        "id": "V_zt2QHr8PPs",
        "colab": {
          "base_uri": "https://localhost:8080/"
        },
        "outputId": "3f61c355-cf6f-4861-daf7-255974e31031"
      },
      "outputs": [
        {
          "output_type": "stream",
          "name": "stdout",
          "text": [
            "torch.Size([3919, 3]) torch.Size([3919])\n",
            "torch.Size([510, 3]) torch.Size([510])\n",
            "torch.Size([480, 3]) torch.Size([480])\n"
          ]
        }
      ],
      "source": [
        "# build the dataset\n",
        "block_size = 3\n",
        "\n",
        "def build_dataset(imiona):  \n",
        "  X, Y = [], []\n",
        "  \n",
        "  for w in imiona:\n",
        "    context = [0] * block_size\n",
        "    for ch in w + '.':\n",
        "      ix = stoi[ch]\n",
        "      X.append(context)\n",
        "      Y.append(ix)\n",
        "      context = context[1:] + [ix] # crop and append\n",
        "\n",
        "  X = torch.tensor(X)\n",
        "  Y = torch.tensor(Y)\n",
        "  print(X.shape, Y.shape)\n",
        "  return X, Y\n",
        "\n",
        "import random\n",
        "random.seed(42)\n",
        "random.shuffle(imiona)\n",
        "n1 = int(0.8*len(imiona))\n",
        "n2 = int(0.9*len(imiona))\n",
        "\n",
        "Xtr,  Ytr  = build_dataset(imiona[:n1])     # 80%\n",
        "Xdev, Ydev = build_dataset(imiona[n1:n2])   # 10%\n",
        "Xte,  Yte  = build_dataset(imiona[n2:])     # 10%"
      ]
    },
    {
      "cell_type": "code",
      "execution_count": 60,
      "metadata": {
        "id": "40mJwHXt-FgI"
      },
      "outputs": [],
      "source": [
        "class Linear:\n",
        "    def __init__(self, ins, outs, bias = True):\n",
        "        self.weight = torch.rand((ins,outs), generator = g)\n",
        "        self.bias = torch.zeros((outs)) if bias else None\n",
        "    def __call__(self, x):\n",
        "        self.out = x @ self.weight\n",
        "        if self.bias is not None:\n",
        "            self.out += self.bias\n",
        "        return self.out\n",
        "    def parameters(self):\n",
        "        return [self.weight] + ([] if self.bias is None else [self.bias])\n",
        "class Tanh:\n",
        "    def __call__(self, x):\n",
        "        self.out = torch.tanh(x)\n",
        "        return self.out\n",
        "    def parameters(self):\n",
        "        return []    \n",
        "class BatchNorm1d:\n",
        "    def __init__(self, dim, eps = 1e-5, momentum = 0.1):\n",
        "        self.momentum = momentum \n",
        "        self.eps = eps\n",
        "        self.training = True\n",
        "        #\n",
        "        self.gamma = torch.ones((dim))\n",
        "        self.beta = torch.zeros((dim))\n",
        "        #\n",
        "        self.rmean = torch.zeros((dim))\n",
        "        self.rvar = torch.ones((dim))\n",
        "        \n",
        "    def __call__(self, x):\n",
        "            \n",
        "        if self.training:\n",
        "            xmean = x.mean(0, keepdim = True)\n",
        "            xvar = x.var(0, keepdim = True)\n",
        "        else:\n",
        "            xmean = self.rmean\n",
        "            xvar = self.rvar\n",
        "        xhat = (x - xmean) / torch.sqrt(xvar + self.eps)\n",
        "        self.out = self.gamma * xhat + self.beta\n",
        "        if self.training:\n",
        "            with torch.no_grad():\n",
        "                self.rmean = (1 - self.momentum) * self.rmean + self.momentum * xmean\n",
        "                self.rvar = (1 - self.momentum) * self.rvar + self.momentum * xvar\n",
        "\n",
        "        return self.out\n",
        "    def parameters(self):\n",
        "        return [self.gamma, self.beta]\n",
        "#embedding layer - A simple lookup table that stores embeddings of a fixed dictionary and size.\n",
        "#https://pytorch.org/docs/stable/generated/torch.nn.Embedding.html\n",
        "class Embedding:\n",
        "  def __init__(self, num_embeddings, dim_embeddings):\n",
        "    self.weight = torch.rand((num_embeddings, dim_embeddings))\n",
        "  def __call__(self, ix):\n",
        "    self.out = self.weight[ix]\n",
        "    return self.out\n",
        "  def parameters(self):\n",
        "    return [self.weight]\n",
        "#flatten layer\n",
        "class Flatten:\n",
        "  def __call__(self, x):\n",
        "    self.out = x.view(x.shape[0], -1)\n",
        "    return self.out\n",
        "  def parameters(self):\n",
        "    return []"
      ]
    },
    {
      "cell_type": "code",
      "source": [
        "class "
      ],
      "metadata": {
        "colab": {
          "base_uri": "https://localhost:8080/"
        },
        "id": "ozW7OVHvKgLo",
        "outputId": "9c59f09f-f638-4d82-a3ab-1feb5b215388"
      },
      "execution_count": 57,
      "outputs": [
        {
          "output_type": "execute_result",
          "data": {
            "text/plain": [
              "tensor([[0.8537, 0.7880],\n",
              "        [0.7094, 0.1006],\n",
              "        [0.9111, 0.5796],\n",
              "        ...,\n",
              "        [0.5492, 0.2025],\n",
              "        [0.3524, 0.9611],\n",
              "        [0.3964, 0.9175]])"
            ]
          },
          "metadata": {},
          "execution_count": 57
        }
      ]
    },
    {
      "cell_type": "code",
      "execution_count": 71,
      "metadata": {
        "id": "FYQejeh0-FgL"
      },
      "outputs": [],
      "source": [
        "dims = 10\n",
        "n_hidden = 200\n",
        "\n",
        "layers = [\n",
        "Embedding(vocab_size, dims),\n",
        "Flatten(),\n",
        "   Linear(     dims*block_size,n_hidden, bias = False), BatchNorm1d(n_hidden), Tanh(),\n",
        "   Linear(           n_hidden, vocab_size)\n",
        " ]\n",
        "with torch.no_grad():\n",
        "    layers[-1].weight *= 0.1\n",
        "\n",
        "parameters =  [p for layer in layers for p in layer.parameters()]\n",
        "for p in parameters:\n",
        "    p.requires_grad = True\n"
      ]
    },
    {
      "cell_type": "code",
      "execution_count": 72,
      "metadata": {
        "colab": {
          "base_uri": "https://localhost:8080/",
          "height": 302
        },
        "id": "nMfzZYXl-FgN",
        "outputId": "d68a7def-acb0-42db-844f-a36df6f4c538"
      },
      "outputs": [
        {
          "output_type": "stream",
          "name": "stdout",
          "text": [
            "      0/  20000: 3.4997\n",
            "  10000/  20000: 1.3177\n"
          ]
        },
        {
          "output_type": "display_data",
          "data": {
            "text/plain": [
              "<Figure size 432x288 with 1 Axes>"
            ],
            "image/png": "[encoded data removed]"
          },
          "metadata": {
            "needs_background": "light"
          }
        }
      ],
      "source": [
        "steps = 20000\n",
        "batch_size = 32\n",
        "losses, accuracies = [], []\n",
        "\n",
        "for i in range(steps):\n",
        "    ix = torch.randint(0, Xtr.shape[0], (batch_size,), generator = g)\n",
        "    Xb, Yb = Xtr[ix], Ytr[ix]\n",
        "   \n",
        "    #forward\n",
        "    x = Xb\n",
        "    for layer in layers:\n",
        "        x = layer(x)\n",
        "    loss = F.cross_entropy(x, Yb)\n",
        "    #backward\n",
        "    for layer in layers:\n",
        "        layer.out.retain_grad()\n",
        "    for p in parameters:\n",
        "        p.grad = None\n",
        "    loss.backward()\n",
        "    # update\n",
        "    lr = 0.1 if i < 150000 else 0.01\n",
        "    for p in parameters:\n",
        "        p.data += -lr * p.grad\n",
        "    if i % 10000 == 0: \n",
        "        print(f'{i:7d}/{steps:7d}: {loss.item():.4f}')\n",
        "    losses.append(loss.item())\n",
        "plt.plot(np.arange(steps), losses);    "
      ]
    },
    {
      "cell_type": "code",
      "source": [
        "losses = torch.tensor(losses)\n",
        "losses = losses.view(-1,1000).mean(1)\n",
        "\n",
        "plt.plot(losses)"
      ],
      "metadata": {
        "colab": {
          "base_uri": "https://localhost:8080/",
          "height": 283
        },
        "id": "KZ506GKHGKh4",
        "outputId": "ebb96b98-c3a8-4984-af1b-e94b2222f4ff"
      },
      "execution_count": 73,
      "outputs": [
        {
          "output_type": "execute_result",
          "data": {
            "text/plain": [
              "[<matplotlib.lines.Line2D at 0x7f018079d790>]"
            ]
          },
          "metadata": {},
          "execution_count": 73
        },
        {
          "output_type": "display_data",
          "data": {
            "text/plain": [
              "<Figure size 432x288 with 1 Axes>"
            ],
            "image/png": "[encoded data removed]"
          },
          "metadata": {
            "needs_background": "light"
          }
        }
      ]
    },
    {
      "cell_type": "code",
      "execution_count": 74,
      "metadata": {
        "id": "wG7624Qp-FgP"
      },
      "outputs": [],
      "source": [
        "for layer in layers:\n",
        "    layer.training = False"
      ]
    },
    {
      "cell_type": "code",
      "execution_count": 77,
      "metadata": {
        "colab": {
          "base_uri": "https://localhost:8080/"
        },
        "id": "zp2bxcKO-FgQ",
        "outputId": "d8b865fb-1501-4ea7-cc0b-0399a7d3690c"
      },
      "outputs": [
        {
          "output_type": "stream",
          "name": "stdout",
          "text": [
            "tensor(1.1752)\n"
          ]
        }
      ],
      "source": [
        "with torch.no_grad():\n",
        "    x = Xtr\n",
        "    for layer in layers:\n",
        "        x = layer(x)\n",
        "    loss = F.cross_entropy(x, Ytr)\n",
        "    print(loss)"
      ]
    },
    {
      "cell_type": "code",
      "execution_count": 10,
      "metadata": {
        "colab": {
          "base_uri": "https://localhost:8080/"
        },
        "id": "IUU6wpWd-FgR",
        "outputId": "6cd271bf-77ba-471c-e217-d68885497e85"
      },
      "outputs": [
        {
          "output_type": "stream",
          "name": "stdout",
          "text": [
            "tensor(3.0603)\n"
          ]
        }
      ],
      "source": [
        "with torch.no_grad():\n",
        "    emb = C[Xdev]\n",
        "    x = emb.view(emb.shape[0], -1)\n",
        "    for layer in layers:\n",
        "        x = layer(x)\n",
        "    loss= F.cross_entropy(x, Ydev)\n",
        "    print(loss)"
      ]
    },
    {
      "cell_type": "code",
      "execution_count": 11,
      "metadata": {
        "colab": {
          "base_uri": "https://localhost:8080/"
        },
        "id": "4VW8P-YH-FgS",
        "outputId": "4f09f64b-9dab-4879-b10a-aeb3b7a06dc2"
      },
      "outputs": [
        {
          "output_type": "stream",
          "name": "stdout",
          "text": [
            "tensor(3.0790)\n"
          ]
        }
      ],
      "source": [
        "with torch.no_grad():\n",
        "    emb = C[Xte]\n",
        "    x = emb.view(emb.shape[0], -1)\n",
        "    for layer in layers:\n",
        "        x = layer(x)\n",
        "    loss= F.cross_entropy(x, Yte)\n",
        "    print(loss)"
      ]
    },
    {
      "cell_type": "code",
      "execution_count": 79,
      "metadata": {
        "colab": {
          "base_uri": "https://localhost:8080/"
        },
        "id": "FWOSgYRu-Fgp",
        "outputId": "422f2883-51f0-4f93-9238-4deac0193c01"
      },
      "outputs": [
        {
          "output_type": "stream",
          "name": "stdout",
          "text": [
            "teodozja.\n",
            "ursyn.\n",
            "kunegunda.\n",
            "feusz.\n",
            "martosław.\n",
            "tronikodywitomir.\n",
            "natolda.\n",
            "jolafyna.\n",
            "milena.\n",
            "żanderyk.\n",
            "konstaczysławda.\n",
            "natoldto.\n",
            "liwiusz.\n",
            "gretta.\n",
            "wik.\n",
            "lucjanusl.\n",
            "konstantonińred.\n",
            "damilicjanna.\n",
            "lilian.\n",
            "bronia.\n"
          ]
        }
      ],
      "source": [
        "#sampling from model\n",
        "for i in range(20):\n",
        "    out = []\n",
        "    context = [0] * block_size \n",
        "    while True:\n",
        "        x = torch.tensor([context])\n",
        "        for layer in layers:\n",
        "            x = layer(x)\n",
        "        logits = x\n",
        "        probs = torch.softmax(logits,1)\n",
        "        ix = torch.multinomial(probs, num_samples = 1).item()\n",
        "        context = context[1:] + [ix]\n",
        "        out.append(ix)\n",
        "        if ix == 0:\n",
        "            break\n",
        "    print(''.join(itos[i] for i in out))\n",
        "        \n",
        "        \n",
        "        \n",
        "        "
      ]
    },
    {
      "cell_type": "code",
      "execution_count": null,
      "metadata": {
        "id": "UPPnkCXo-Fgr"
      },
      "outputs": [],
      "source": []
    }
  ],
  "metadata": {
    "colab": {
      "provenance": []
    },
    "kernelspec": {
      "display_name": "Python 3",
      "language": "python",
      "name": "python3"
    },
    "language_info": {
      "codemirror_mode": {
        "name": "ipython",
        "version": 3
      },
      "file_extension": ".py",
      "mimetype": "text/x-python",
      "name": "python",
      "nbconvert_exporter": "python",
      "pygments_lexer": "ipython3",
      "version": "3.8.5"
    }
  },
  "nbformat": 4,
  "nbformat_minor": 0
}