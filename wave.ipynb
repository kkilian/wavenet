{
  "cells": [
    {
      "cell_type": "code",
      "execution_count": null,
      "metadata": {
        "id": "ChBbac4y8PPq"
      },
      "outputs": [],
      "source": [
        "import torch\n",
        "import numpy as np\n",
        "from torch import nn \n",
        "import random\n",
        "from torch.nn import functional as F\n",
        "import matplotlib.pyplot as plt\n",
        "%matplotlib inline"
      ]
    },
    {
      "cell_type": "code",
      "execution_count": null,
      "metadata": {
        "id": "klmu3ZG08PPr",
        "outputId": "b8fb23f6-675c-41e9-9d8b-799ad9725e83"
      },
      "outputs": [
        {
          "data": {
            "text/plain": [
              "['ada', 'adalbert', 'adam', 'adela', 'adelajda']"
            ]
          },
          "execution_count": 37,
          "metadata": {},
          "output_type": "execute_result"
        }
      ],
      "source": [
        "# read in all the words\n",
        "imiona = open(\"imionapl.txt\", encoding = \"UTF-8\").read().splitlines()\n",
        "imiona = [i.lower() for i in imiona]\n",
        "imiona[:5]"
      ]
    },
    {
      "cell_type": "code",
      "execution_count": null,
      "metadata": {
        "id": "BCQomLE_8PPs",
        "outputId": "6b060f2a-1555-46ad-a42b-1ac8d4e4d7de"
      },
      "outputs": [
        {
          "name": "stdout",
          "output_type": "stream",
          "text": [
            "{1: 'a', 2: 'b', 3: 'c', 4: 'd', 5: 'e', 6: 'f', 7: 'g', 8: 'h', 9: 'i', 10: 'j', 11: 'k', 12: 'l', 13: 'm', 14: 'n', 15: 'o', 16: 'p', 17: 'r', 18: 's', 19: 't', 20: 'u', 21: 'v', 22: 'w', 23: 'y', 24: 'z', 25: 'ó', 26: 'ę', 27: 'ł', 28: 'ń', 29: 'ś', 30: 'ż', 0: '.'}\n",
            "31\n"
          ]
        }
      ],
      "source": [
        "chars = sorted(list(set(''.join(imiona))))\n",
        "stoi = {s:i+1 for i,s in enumerate(chars)}\n",
        "stoi['.'] = 0\n",
        "itos = {i:s for s,i in stoi.items()}\n",
        "vocab_size = len(itos)\n",
        "print(itos)\n",
        "print(vocab_size)"
      ]
    },
    {
      "cell_type": "code",
      "execution_count": null,
      "metadata": {
        "id": "V_zt2QHr8PPs",
        "outputId": "785de6b1-39b7-4c62-fa1e-864cc745e3b7"
      },
      "outputs": [
        {
          "name": "stdout",
          "output_type": "stream",
          "text": [
            "torch.Size([3919, 3]) torch.Size([3919])\n",
            "torch.Size([510, 3]) torch.Size([510])\n",
            "torch.Size([480, 3]) torch.Size([480])\n"
          ]
        }
      ],
      "source": [
        "# build the dataset\n",
        "block_size = 3\n",
        "\n",
        "def build_dataset(imiona):  \n",
        "  X, Y = [], []\n",
        "  \n",
        "  for w in imiona:\n",
        "    context = [0] * block_size\n",
        "    for ch in w + '.':\n",
        "      ix = stoi[ch]\n",
        "      X.append(context)\n",
        "      Y.append(ix)\n",
        "      context = context[1:] + [ix] # crop and append\n",
        "\n",
        "  X = torch.tensor(X)\n",
        "  Y = torch.tensor(Y)\n",
        "  print(X.shape, Y.shape)\n",
        "  return X, Y\n",
        "\n",
        "import random\n",
        "random.seed(42)\n",
        "random.shuffle(imiona)\n",
        "n1 = int(0.8*len(imiona))\n",
        "n2 = int(0.9*len(imiona))\n",
        "\n",
        "Xtr,  Ytr  = build_dataset(imiona[:n1])     # 80%\n",
        "Xdev, Ydev = build_dataset(imiona[n1:n2])   # 10%\n",
        "Xte,  Yte  = build_dataset(imiona[n2:])     # 10%"
      ]
    },
    {
      "cell_type": "code",
      "execution_count": null,
      "metadata": {
        "id": "40mJwHXt-FgI"
      },
      "outputs": [],
      "source": [
        "class Linear:\n",
        "    def __init__(self, ins, outs, bias = True):\n",
        "        self.weight = torch.rand((ins,outs), generator = g)\n",
        "        self.bias = torch.zeros((outs)) if bias else None\n",
        "    def __call__(self, x):\n",
        "        self.out = x @ self.weight\n",
        "        if self.bias is not None:\n",
        "            self.out += self.bias\n",
        "        return self.out\n",
        "    def parameters(self):\n",
        "        return [self.weight] + ([] if self.bias is None else [self.bias])\n",
        "class Tanh:\n",
        "    def __call__(self, x):\n",
        "        self.out = torch.tanh(x)\n",
        "        return self.out\n",
        "    def parameters(self):\n",
        "        return []    \n",
        "class BatchNorm1d:\n",
        "    def __init__(self, dim, eps = 1e-5, momentum = 0.1):\n",
        "        self.momentum = momentum \n",
        "        self.eps = eps\n",
        "        self.training = True\n",
        "        #\n",
        "        self.gamma = torch.ones((dim))\n",
        "        self.beta = torch.zeros((dim))\n",
        "        #\n",
        "        self.rmean = torch.zeros((dim))\n",
        "        self.rvar = torch.ones((dim))\n",
        "        \n",
        "    def __call__(self, x):\n",
        "            \n",
        "        if self.training:\n",
        "            xmean = x.mean(0, keepdim = True)\n",
        "            xvar = x.var(0, keepdim = True)\n",
        "        else:\n",
        "            xmean = self.rmean\n",
        "            xvar = self.rvar\n",
        "        xhat = (x - xmean) / torch.sqrt(xvar + self.eps)\n",
        "        self.out = self.gamma * xhat + self.beta\n",
        "        if self.training:\n",
        "            with torch.no_grad():\n",
        "                self.rmean = (1 - self.momentum) * self.rmean + self.momentum * xmean\n",
        "                self.rvar = (1 - self.momentum) * self.rvar + self.momentum * xvar\n",
        "\n",
        "        return self.out\n",
        "    def parameters(self):\n",
        "        return [self.gamma, self.beta]\n"
      ]
    },
    {
      "cell_type": "code",
      "execution_count": null,
      "metadata": {
        "id": "FYQejeh0-FgL"
      },
      "outputs": [],
      "source": [
        "dims = 10\n",
        "n_hidden = 100\n",
        "g = torch.Generator().manual_seed(312) \n",
        "\n",
        "C = torch.randn((vocab_size, dims),            generator=g)\n",
        "layers = [\n",
        "Linear(dims * block_size, n_hidden), Tanh(),\n",
        "   Linear(           n_hidden, n_hidden), Tanh(),\n",
        "   Linear(           n_hidden, n_hidden), Tanh(),\n",
        "   Linear(           n_hidden, n_hidden), Tanh(),\n",
        "   Linear(           n_hidden, n_hidden), Tanh(),\n",
        "   Linear(           n_hidden, vocab_size),\n",
        " ]\n",
        "with torch.no_grad():\n",
        "    layers[-1].weight *= 0.1\n",
        "\n",
        "parameters = [C] + [p for layer in layers for p in layer.parameters()]\n",
        "for p in parameters:\n",
        "    p.requires_grad = True\n"
      ]
    },
    {
      "cell_type": "code",
      "execution_count": null,
      "metadata": {
        "id": "nMfzZYXl-FgN",
        "outputId": "ef001f90-8c17-40ff-d35e-60a6275c3605"
      },
      "outputs": [
        {
          "name": "stdout",
          "output_type": "stream",
          "text": [
            "      0/   2000: 2.9517\n"
          ]
        },
        {
          "data": {
            "image/png": "[encoded data removed]",
            "text/plain": [
              "<Figure size 432x288 with 1 Axes>"
            ]
          },
          "metadata": {
            "needs_background": "light"
          },
          "output_type": "display_data"
        }
      ],
      "source": [
        "steps = 2000\n",
        "batch_size = 32\n",
        "losses, accuracies = [], []\n",
        "\n",
        "for i in range(steps):\n",
        "    ix = torch.randint(0, Xtr.shape[0], (batch_size,), generator = g)\n",
        "    Xb, Yb = Xtr[ix], Ytr[ix]\n",
        "    emb = C[Xb]\n",
        "    x = emb.view(emb.shape[0], -1)\n",
        "    #forward\n",
        "    for layer in layers:\n",
        "        x = layer(x)\n",
        "    loss = F.cross_entropy(x, Yb)\n",
        "    #backward\n",
        "    for layer in layers:\n",
        "        layer.out.retain_grad()\n",
        "    for p in parameters:\n",
        "        p.grad = None\n",
        "    loss.backward()\n",
        "    # update\n",
        "    lr = 0.1 if i < 150000 else 0.01\n",
        "    for p in parameters:\n",
        "        p.data += -lr * p.grad\n",
        "    if i % 10000 == 0: \n",
        "        print(f'{i:7d}/{steps:7d}: {loss.item():.4f}')\n",
        "    losses.append(loss.item())\n",
        "plt.plot(np.arange(steps), losses);    "
      ]
    },
    {
      "cell_type": "code",
      "execution_count": null,
      "metadata": {
        "id": "wG7624Qp-FgP"
      },
      "outputs": [],
      "source": [
        "for layer in layers:\n",
        "    layer.training = False"
      ]
    },
    {
      "cell_type": "code",
      "execution_count": null,
      "metadata": {
        "id": "zp2bxcKO-FgQ",
        "outputId": "69fae2bd-c462-4c34-f955-72e54e607961"
      },
      "outputs": [
        {
          "name": "stdout",
          "output_type": "stream",
          "text": [
            "tensor(2.9783)\n"
          ]
        }
      ],
      "source": [
        "with torch.no_grad():\n",
        "    emb = C[Xtr]\n",
        "    x= emb.view(emb.shape[0], -1)\n",
        "    for layer in layers:\n",
        "        x = layer(x)\n",
        "    loss = F.cross_entropy(x, Ytr)\n",
        "    print(loss)"
      ]
    },
    {
      "cell_type": "code",
      "execution_count": null,
      "metadata": {
        "id": "IUU6wpWd-FgR",
        "outputId": "855f35af-3116-4341-8091-5006e5e5781f"
      },
      "outputs": [
        {
          "name": "stdout",
          "output_type": "stream",
          "text": [
            "tensor(2.9795)\n"
          ]
        }
      ],
      "source": [
        "with torch.no_grad():\n",
        "    emb = C[Xdev]\n",
        "    x = emb.view(emb.shape[0], -1)\n",
        "    for layer in layers:\n",
        "        x = layer(x)\n",
        "    loss= F.cross_entropy(x, Ydev)\n",
        "    print(loss)"
      ]
    },
    {
      "cell_type": "code",
      "execution_count": null,
      "metadata": {
        "id": "4VW8P-YH-FgS",
        "outputId": "714f4136-de59-487a-e225-cf69202f20c5"
      },
      "outputs": [
        {
          "name": "stdout",
          "output_type": "stream",
          "text": [
            "tensor(3.0234)\n"
          ]
        }
      ],
      "source": [
        "with torch.no_grad():\n",
        "    emb = C[Xte]\n",
        "    x = emb.view(emb.shape[0], -1)\n",
        "    for layer in layers:\n",
        "        x = layer(x)\n",
        "    loss= F.cross_entropy(x, Yte)\n",
        "    print(loss)"
      ]
    },
    {
      "cell_type": "code",
      "execution_count": null,
      "metadata": {
        "id": "FWOSgYRu-Fgp",
        "outputId": "e4f4bd0d-1c89-40d5-c762-ec1a97801a05"
      },
      "outputs": [
        {
          "name": "stdout",
          "output_type": "stream",
          "text": [
            "aialjrltdaramraęcl.\n",
            "śayetgusnoeeoannwoiwberasa.\n",
            "zad.\n",
            "dzr.\n",
            "e.\n",
            "yed.\n",
            "olpu.\n",
            "mlokrzlltaabssnknntnloieauz.\n",
            ".\n",
            "lesvua.\n",
            "m.\n",
            "enaarragaz.\n",
            "ilerulswf.\n",
            "areinoiaimii.\n",
            "lu.\n",
            "anaaadu.\n",
            "jrwznyroaaa.\n",
            "imaetdoykld.\n",
            ".\n",
            "aaa.\n"
          ]
        }
      ],
      "source": [
        "#sampling from model\n",
        "for i in range(20):\n",
        "    out = []\n",
        "    context = [0] * block_size \n",
        "    while True:\n",
        "        emb = C[torch.tensor([context])]\n",
        "        x = emb.view(emb.shape[0], -1)\n",
        "        for layer in layers:\n",
        "            x = layer(x)\n",
        "        logits = x\n",
        "        probs = torch.softmax(logits,1)\n",
        "        ix = torch.multinomial(probs, num_samples = 1).item()\n",
        "        context = context[1:] + [ix]\n",
        "        out.append(ix)\n",
        "        if ix == 0:\n",
        "            break\n",
        "    print(''.join(itos[i] for i in out))\n",
        "        \n",
        "        \n",
        "        \n",
        "        "
      ]
    },
    {
      "cell_type": "code",
      "execution_count": null,
      "metadata": {
        "id": "UPPnkCXo-Fgr"
      },
      "outputs": [],
      "source": []
    }
  ],
  "metadata": {
    "colab": {
      "provenance": []
    },
    "kernelspec": {
      "display_name": "Python 3",
      "language": "python",
      "name": "python3"
    },
    "language_info": {
      "codemirror_mode": {
        "name": "ipython",
        "version": 3
      },
      "file_extension": ".py",
      "mimetype": "text/x-python",
      "name": "python",
      "nbconvert_exporter": "python",
      "pygments_lexer": "ipython3",
      "version": "3.8.5"
    }
  },
  "nbformat": 4,
  "nbformat_minor": 0
}